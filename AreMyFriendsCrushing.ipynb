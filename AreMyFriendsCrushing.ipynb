{
 "cells": [
  {
   "cell_type": "markdown",
   "id": "d252c037-0ba2-4d67-8626-29074ad71d58",
   "metadata": {
    "tags": []
   },
   "source": [
    "### See how much your friends have been out climbing since a defined date"
   ]
  },
  {
   "cell_type": "code",
   "execution_count": 1,
   "id": "19c45166-26f1-4cc0-9324-a98c3539d09f",
   "metadata": {},
   "outputs": [],
   "source": [
    "# Install Packages\n",
    "from IPython.display import clear_output"
   ]
  },
  {
   "cell_type": "code",
   "execution_count": 2,
   "id": "4f721db7-4655-418d-901b-99371a6bd26a",
   "metadata": {
    "tags": []
   },
   "outputs": [],
   "source": [
    "# Import Packages\n",
    "from IPython.display import clear_output\n",
    "import requests\n",
    "import os\n",
    "import csv\n",
    "import pandas as pd\n",
    "from datetime import datetime, timedelta\n",
    "import time"
   ]
  },
  {
   "cell_type": "code",
   "execution_count": 3,
   "id": "09a2f651-3849-4e85-971c-2f7997c7ffbb",
   "metadata": {
    "tags": []
   },
   "outputs": [],
   "source": [
    "# Create array of input csv to be analyzed\n",
    "FriendsList = []\n",
    "FriendsCsvFiles = []\n",
    "\n",
    "FriendsListPath = \"./MPcsv/Climbing_Friends.csv\"\n",
    "# Either redownload MP Data or change this to date when you last downloaded from MP\n",
    "today = datetime.today().strftime(\"%m-%d-%Y\")\n",
    "\n",
    "with open(FriendsListPath, \"r\", encoding=\"utf-8\") as file:\n",
    "    reader = csv.reader(file)\n",
    "    for row in reader:\n",
    "        FriendsList.append(row)\n",
    "\n",
    "#Input csv files to be analyzed\n",
    "for friend in FriendsList[1:]:\n",
    "    FriendsCsvFiles.append('./MPcsv/' + friend[0] + \"-\" + today + \".csv\")\n",
    "                           \n",
    "# print(FriendsList)\n",
    "# print(FriendsCsvFiles)"
   ]
  },
  {
   "cell_type": "code",
   "execution_count": 4,
   "id": "3f180eaa-7a66-4ec0-aecb-ee9aebd0d951",
   "metadata": {
    "tags": []
   },
   "outputs": [],
   "source": [
    "def check_csv_for_date(input_files, output_file, lastClimbedDate):\n",
    "    \"\"\"\n",
    "    Python function which goes through N number of csv files and looks at the first column of each file \n",
    "    which contains dates, check if those dates are after an entered date. If they are, then save the \n",
    "    rows in which the condition is satisfied\n",
    "    \n",
    "    Parameters:\n",
    "        input_files (list of str): List of file paths to the input CSV files.\n",
    "        output_file (str): Path to the output CSV file where filtered rows will be saved.\n",
    "        date_threshold (str): The date threshold in 'YYYY-MM-DD' format. Rows with dates after this will be saved.\n",
    "\n",
    "    Returns:\n",
    "        None\n",
    "    \"\"\"\n",
    "    try:\n",
    "        # Convert the date_threshold to a datetime object\n",
    "        lastClimbedDate = datetime.strptime(lastClimbedDate, \"%m-%d-%Y\")\n",
    "        hasClimbed = []\n",
    "        routesClimbed = []\n",
    "        pitchesClimbed = []\n",
    "        date_series = []\n",
    "        date_objects = []\n",
    "        daysOut = []\n",
    "        # Initialize an empty DataFrame to store filtered rows\n",
    "        filtered_rows = pd.DataFrame()\n",
    "        i=0\n",
    "        for file in input_files:\n",
    "            # Read the CSV file\n",
    "            i+=1\n",
    "            try:\n",
    "                df = pd.read_csv(file)\n",
    "\n",
    "                # Ensure the first column contains dates\n",
    "                if df.empty or len(df.columns) == 0:\n",
    "                    print(f\"Skipping empty or malformed file: {file}\")\n",
    "                    continue\n",
    "                \n",
    "                # Convert the first column to datetime\n",
    "                df[df.columns[0]] = pd.to_datetime(df[df.columns[0]], errors='coerce')\n",
    "\n",
    "                # Filter rows based on the date condition\n",
    "                filtered_df = df[df[df.columns[0]] > lastClimbedDate]\n",
    "\n",
    "                # Append filtered rows to the result DataFrame\n",
    "                if not filtered_df.empty:\n",
    "                    hasClimbed.append(FriendsList[i][0])\n",
    "                    routesClimbed.append(len(filtered_df))\n",
    "                    #df ask for pitches and then sum total for each person\n",
    "                    pitchesClimbed.append(sum(filtered_df['Pitches'].tolist()))\n",
    "                    # df ask for days and then calc unique days\n",
    "                    date_series = filtered_df['Date'].tolist()\n",
    "                    date_objects = [date.strftime(\"%Y-%m-%d\") for date in date_series]\n",
    "                    unique_days = set(date_objects)    \n",
    "                    daysOut.append(len(unique_days))\n",
    "                filtered_rows = pd.concat([filtered_rows, filtered_df], ignore_index=True)\n",
    "                \n",
    "            except Exception as e:\n",
    "                print(f\"Error processing file {file}: {e}\")\n",
    "\n",
    "        # Save the filtered rows to the output file\n",
    "        if not filtered_rows.empty:\n",
    "            filtered_rows.to_csv('./MPcsv/' + output_file, index=False)\n",
    "            print(f\"Filtered rows saved to {output_file}\")\n",
    "        else:\n",
    "            print(\"No rows matched the condition.\")\n",
    "        \n",
    "        print(\"\\nSince \",lastClimbedDate.strftime(\"%m-%d-%Y\"), \"following friends have climbed: \")\n",
    "        print(\n",
    "            f\"{'Friend':<15}{'Routes':>8}{'Pitches':>11}{'Days Out':>11}\"\n",
    "        )\n",
    "        print('-' * 50)\n",
    "        for name, routes, pitches, days in zip(hasClimbed,routesClimbed,pitchesClimbed, daysOut):\n",
    "            print(\n",
    "                f\"{name:<15}{routes:>5}{pitches:>11}{days:>11}\"\n",
    "            )\n",
    "    except Exception as e:\n",
    "        print(f\"An error occurred: {e}\")\n",
    "\n"
   ]
  },
  {
   "cell_type": "code",
   "execution_count": null,
   "id": "0550ff52-c58f-409c-90a0-de5d62792abe",
   "metadata": {
    "tags": []
   },
   "outputs": [],
   "source": []
  },
  {
   "cell_type": "markdown",
   "id": "7aa9fe45-3ad2-40e2-a0a9-c176293239e1",
   "metadata": {},
   "source": [
    "### Over what time period do you want to look over"
   ]
  },
  {
   "cell_type": "code",
   "execution_count": 5,
   "id": "9b6e227c-6f38-4cc5-82a6-53301d2786ac",
   "metadata": {
    "tags": []
   },
   "outputs": [
    {
     "name": "stdout",
     "output_type": "stream",
     "text": [
      "Last week:          01-11-2025\n",
      "Two weeks ago:      01-04-2025\n",
      "Last Month:         12-21-2024\n",
      "Last 6 Months:      07-19-2024\n",
      "Last Year:          01-19-2024\n"
     ]
    }
   ],
   "source": [
    "last_week = datetime.today() - timedelta(weeks=1)\n",
    "last_fortnite = datetime.today() - timedelta(weeks=2)\n",
    "last_month = datetime.today() - timedelta(weeks=4)\n",
    "last_halfyear = datetime.today() - timedelta(days=183)\n",
    "last_year = datetime.today() - timedelta(days=365)\n",
    "last_week = last_week.strftime(\"%m-%d-%Y\")\n",
    "last_fortnite = last_fortnite.strftime(\"%m-%d-%Y\")\n",
    "last_month = last_month.strftime(\"%m-%d-%Y\")\n",
    "last_halfyear = last_halfyear.strftime(\"%m-%d-%Y\")\n",
    "last_year = last_year.strftime(\"%m-%d-%Y\")\n",
    "\n",
    "print(\n",
    "    f\"{'Last week: ':<15}{last_week:>15}\",\n",
    "    f\"{'Two weeks ago: ':<15}{last_fortnite:>15}\",\n",
    "    f\"{'Last Month: ':<15}{last_month:>15}\",\n",
    "    f\"{'Last 6 Months: ':<15}{last_halfyear:>15}\",\n",
    "    f\"{'Last Year: ':<15}{last_year:>15}\",\n",
    "    sep=\"\\n\"\n",
    ")"
   ]
  },
  {
   "cell_type": "code",
   "execution_count": 6,
   "id": "03146114-440e-48e0-be58-fa11f104461d",
   "metadata": {
    "tags": []
   },
   "outputs": [],
   "source": [
    "lastClimbedDate = \"1-1-2020\""
   ]
  },
  {
   "cell_type": "code",
   "execution_count": 7,
   "id": "1621ffc0-6424-41c5-87c4-db6dd2cea40d",
   "metadata": {
    "tags": []
   },
   "outputs": [
    {
     "name": "stdout",
     "output_type": "stream",
     "text": [
      "Filtered rows saved to RecentFriendRoutes.csv\n",
      "\n",
      "Since  01-01-2020 following friends have climbed: \n",
      "Friend           Routes    Pitches   Days Out\n",
      "--------------------------------------------------\n",
      "Eric             237        413         84\n",
      "Link             586        992        188\n",
      "Jack             209        336         70\n",
      "Susan            181        265         58\n",
      "Oak             1306       2077        345\n",
      "Annie           1239       1938        348\n",
      "Kelsey            89        124         38\n",
      "Lucia              7         15          3\n",
      "Holly             36         67         13\n",
      "Elizabeth        124        181         44\n",
      "Mikkel            11         18          5\n",
      "Brandon           17         18          5\n",
      "Jessie             5          5          2\n",
      "Mike               1          1          1\n",
      "Chen             168        242         53\n",
      "Kai              212        381         86\n",
      "Nancy             51        108         21\n"
     ]
    }
   ],
   "source": [
    "# Example usage\n",
    "output_file = 'RecentFriendRoutes.csv'\n",
    "date_threshold = lastClimbedDate\n",
    "check_csv_for_date(FriendsCsvFiles, output_file, date_threshold)"
   ]
  },
  {
   "cell_type": "code",
   "execution_count": null,
   "id": "6218cb21-4674-4de6-870d-797f58e2612b",
   "metadata": {
    "tags": []
   },
   "outputs": [],
   "source": []
  },
  {
   "cell_type": "code",
   "execution_count": null,
   "id": "58cb90cd-93bc-4826-b7cc-ad7255b92630",
   "metadata": {},
   "outputs": [],
   "source": []
  },
  {
   "cell_type": "code",
   "execution_count": null,
   "id": "1cc1e4a8-47b4-429f-810d-9dc9e3e9559b",
   "metadata": {},
   "outputs": [],
   "source": []
  }
 ],
 "metadata": {
  "kernelspec": {
   "display_name": "Python 3 (ipykernel)",
   "language": "python",
   "name": "python3"
  },
  "language_info": {
   "codemirror_mode": {
    "name": "ipython",
    "version": 3
   },
   "file_extension": ".py",
   "mimetype": "text/x-python",
   "name": "python",
   "nbconvert_exporter": "python",
   "pygments_lexer": "ipython3",
   "version": "3.11.4"
  }
 },
 "nbformat": 4,
 "nbformat_minor": 5
}
