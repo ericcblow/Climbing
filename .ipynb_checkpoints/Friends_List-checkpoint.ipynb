{
 "cells": [
  {
   "cell_type": "code",
   "execution_count": 5,
   "id": "7ca8e8a8-8b08-4b4b-8619-2365465edfda",
   "metadata": {
    "tags": []
   },
   "outputs": [
    {
     "name": "stdout",
     "output_type": "stream",
     "text": [
      "Name: Eric, MP url: https://www.mountainproject.com/user/200907207/eric-blow\n",
      "Name: Link, MP url: https://www.mountainproject.com/user/112051710/link-pat\n",
      "Name: Jack, MP url: https://www.mountainproject.com/user/112192174/jack-reills\n",
      "Name: Susan, MP url: https://www.mountainproject.com/user/201129089/q-r\n",
      "Name: Oak, MP url: https://www.mountainproject.com/user/112823201/oak-nelson\n",
      "Name: Annie, MP url: https://www.mountainproject.com/user/112846385/annie-levine\n",
      "Name: Kelsey, MP url: https://www.mountainproject.com/user/200183304/kelsey-neal\n",
      "Name: Lucia, MP url: https://www.mountainproject.com/user/200895359/lucia-stein-montalvo\n",
      "Name: Holly, MP url: https://www.mountainproject.com/user/201375581/holly-burrows\n",
      "Name: Elizabeth, MP url: https://www.mountainproject.com/user/201346194/elizabeth-yankovsky\n",
      "Name: Mikkel, MP url: https://www.mountainproject.com/user/200385332/mikkel-kringelbach\n",
      "Name: Brandon, MP url: https://www.mountainproject.com/user/201494313/brandon-slocum\n",
      "Name: Jessie, MP url: https://www.mountainproject.com/user/201494271/jess-kendall\n",
      "Name: Mike, MP url: https://www.mountainproject.com/user/201253247/michael-blow\n"
     ]
    }
   ],
   "source": [
    "import csv\n",
    "\n",
    "csv_file_path = \"./MPcsv/Climbing_Friends.csv\"\n",
    "\n",
    "# Generating Friends List\n",
    "friends_data = [\n",
    "    [\"Eric\", \"https://www.mountainproject.com/user/200907207/eric-blow\"],\n",
    "    [\"Link\", \"https://www.mountainproject.com/user/112051710/link-pat\"],\n",
    "    [\"Jack\", \"https://www.mountainproject.com/user/112192174/jack-reills\"],\n",
    "    [\"Susan\", \"https://www.mountainproject.com/user/201129089/q-r\"],\n",
    "    [\"Oak\",\"https://www.mountainproject.com/user/112823201/oak-nelson\"],\n",
    "    [\"Annie\",\"https://www.mountainproject.com/user/112846385/annie-levine\"],\n",
    "    [\"Kelsey\", \"https://www.mountainproject.com/user/200183304/kelsey-neal\"],\n",
    "    [\"Lucia\", \"https://www.mountainproject.com/user/200895359/lucia-stein-montalvo\"],\n",
    "    [\"Holly\",\"https://www.mountainproject.com/user/201375581/holly-burrows\"],\n",
    "    [\"Elizabeth\",\"https://www.mountainproject.com/user/201346194/elizabeth-yankovsky\"],\n",
    "    [\"Mikkel\", \"https://www.mountainproject.com/user/200385332/mikkel-kringelbach\"],\n",
    "    [\"Brandon\",\"https://www.mountainproject.com/user/201494313/brandon-slocum\"],\n",
    "    [\"Jessie\",\"https://www.mountainproject.com/user/201494271/jess-kendall\"],\n",
    "    [\"Mike\", \"https://www.mountainproject.com/user/201253247/michael-blow\"]\n",
    "]\n",
    "\n",
    "# Sara? Mimi, Shawn\n",
    "\n",
    "# Nonticking Shame List\n",
    "# [\"Tom\",\"https://www.mountainproject.com/user/200519855/tom-underwood\"],\n",
    "\n",
    "with open(csv_file_path, \"w\", newline=\"\", encoding=\"utf-8\") as file:\n",
    "    writer = csv.writer(file)\n",
    "    # Optional: Write a header row\n",
    "    writer.writerow([\"Name\", \"URL\"])\n",
    "    # Write the 2D array data\n",
    "    writer.writerows(friends_data)\n",
    "\n",
    "# Print\n",
    "for friend in friends_data:\n",
    "    print(f\"Name: {friend[0]}, MP url: {friend[1]}\")\n",
    "    \n",
    "    "
   ]
  },
  {
   "cell_type": "code",
   "execution_count": null,
   "id": "c7bee6d5-cce0-41b8-9270-ef808dae1a0f",
   "metadata": {},
   "outputs": [],
   "source": []
  }
 ],
 "metadata": {
  "kernelspec": {
   "display_name": "Python 3 (ipykernel)",
   "language": "python",
   "name": "python3"
  },
  "language_info": {
   "codemirror_mode": {
    "name": "ipython",
    "version": 3
   },
   "file_extension": ".py",
   "mimetype": "text/x-python",
   "name": "python",
   "nbconvert_exporter": "python",
   "pygments_lexer": "ipython3",
   "version": "3.11.5"
  }
 },
 "nbformat": 4,
 "nbformat_minor": 5
}
