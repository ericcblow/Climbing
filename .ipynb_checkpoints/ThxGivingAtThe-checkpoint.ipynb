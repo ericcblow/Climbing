{
 "cells": [
  {
   "cell_type": "markdown",
   "id": "3bea5f32-d046-48f5-9a0f-269aa976f21f",
   "metadata": {},
   "source": [
    "### Generates Trip Report for you and your friends"
   ]
  },
  {
   "cell_type": "code",
   "execution_count": null,
   "id": "bd8dc418-efa8-41a7-8f7b-1b0ff36c0728",
   "metadata": {},
   "outputs": [],
   "source": []
  },
  {
   "cell_type": "code",
   "execution_count": 1,
   "id": "288f1585-2efe-4433-bb10-3dc02e0d1766",
   "metadata": {},
   "outputs": [],
   "source": [
    "# Install Packages\n",
    "from IPython.display import clear_output"
   ]
  },
  {
   "cell_type": "code",
   "execution_count": 2,
   "id": "1372d53d-d32e-4825-a094-d18edc349b4d",
   "metadata": {
    "tags": []
   },
   "outputs": [],
   "source": [
    "# Import Packages\n",
    "from IPython.display import clear_output\n",
    "import requests\n",
    "import os\n",
    "import numpy as np\n",
    "import csv\n",
    "import pandas as pd\n",
    "import matplotlib.pyplot as plt\n",
    "from datetime import datetime, timedelta\n",
    "import time"
   ]
  },
  {
   "cell_type": "code",
   "execution_count": 3,
   "id": "3f0086d2-7f69-4447-abbc-ebb64289954d",
   "metadata": {
    "tags": []
   },
   "outputs": [],
   "source": [
    "# Enter trip start date (mm-dd-yyyy)\n",
    "TripStartDate = \"11-26-2024\"\n",
    "\n",
    "# Enter trip end date (mm-dd-yyyy)\n",
    "TripEndDate = \"12-2-2024\"\n",
    "\n",
    "# Formatting and then checking if End date is later than start date\n",
    "TripStartDate = datetime.strptime(TripStartDate, \"%m-%d-%Y\")\n",
    "TripEndDate = datetime.strptime(TripEndDate, \"%m-%d-%Y\")\n",
    "if TripEndDate < TripStartDate:\n",
    "    print(\"Start date is later than end data, swapping them.\")\n",
    "    temp = TripStartDate\n",
    "    TripStartDate = TripEndDate\n",
    "    TripEndDate = temp\n"
   ]
  },
  {
   "cell_type": "code",
   "execution_count": 4,
   "id": "f7c693e1-e385-4ccd-8116-628b8a31ccb6",
   "metadata": {
    "tags": []
   },
   "outputs": [
    {
     "name": "stdout",
     "output_type": "stream",
     "text": [
      "[['Eric', 'https://www.mountainproject.com/user/200907207/eric-blow'], ['Link', 'https://www.mountainproject.com/user/112051710/link-pat'], ['Susan', 'https://www.mountainproject.com/user/201129089/q-r'], ['Jack', 'https://www.mountainproject.com/user/112192174/jack-reills'], ['Elizabeth', 'https://www.mountainproject.com/user/201346194/elizabeth-yankovsky']]\n"
     ]
    }
   ],
   "source": [
    "# Who was there? (and also ticks)\n",
    "# Enter your friends who were on the trip here:\n",
    "FriendsOnTrip = ['Eric','Link','Susan', 'Jack', 'Elizabeth']\n",
    "\n",
    "\n",
    "# Create array of input csv to be analyzed\n",
    "FriendsList = []\n",
    "FriendsCsvFiles = []\n",
    "\n",
    "FriendsListPath = \"./MPcsv/Climbing_Friends.csv\"\n",
    "\n",
    "# Either redownload MP Data or change this to date when you last downloaded from MP\n",
    "today = datetime.today().strftime(\"%m-%d-%Y\")\n",
    "\n",
    "with open(FriendsListPath, \"r\", encoding=\"utf-8\") as file:\n",
    "    reader = csv.reader(file)\n",
    "    for row in reader:\n",
    "        FriendsList.append(row)\n",
    "\n",
    "#Input csv files to be analyzed\n",
    "for friend in FriendsList[1:]:\n",
    "    FriendsCsvFiles.append('./MPcsv/' + friend[0] + \"-\" + today + \".csv\")\n",
    "    \n",
    "FriendsThereList = []\n",
    "FriendInd = []\n",
    "FoundFriendInd = []\n",
    "MissingFriends = []\n",
    "FriendsThereCsvFiles = []\n",
    "j=0\n",
    "for Name2LookFor in FriendsOnTrip:\n",
    "    for i, Name in enumerate(FriendsList):\n",
    "        if Name2LookFor in Name:  # Check if the keyword is in the string\n",
    "            FoundFriendInd.append(j)\n",
    "            FriendInd.append(i)\n",
    "    j+=1\n",
    "\n",
    "\n",
    "if len(FoundFriendInd) != len(FriendsOnTrip):\n",
    "    # Validate indices to ensure they are within range\n",
    "    valid_indices = set(idx for idx in FoundFriendInd if 0 <= idx < len(FriendsOnTrip))\n",
    "    # Create a new list excluding the elements at the specified indices\n",
    "    MissingFriends = [s for i, s in enumerate(FriendsOnTrip) if i not in FoundFriendInd]\n",
    "    print(MissingFriends, \"are missing from your friends list.\")\n",
    "    \n",
    "# New Friends list with only people there\n",
    "FriendsThereList = [FriendsList[index] for index in FriendInd]\n",
    "print(FriendsThereList)\n",
    "for friend in FriendsThereList:\n",
    "    FriendsThereCsvFiles.append('./MPcsv/' + friend[0] + \"-\" + today + \".csv\")\n",
    "\n",
    "# print(FriendsThereCsvFiles)\n"
   ]
  },
  {
   "cell_type": "code",
   "execution_count": 5,
   "id": "f88ba12a-3dbc-4983-9c42-ae1be7b1731e",
   "metadata": {
    "tags": []
   },
   "outputs": [],
   "source": [
    "def check_csv_for_date_range(input_files, output_file, TripStart, TripEnd):\n",
    "    \"\"\"\n",
    "    Python function which goes through N number of csv files and looks at the first column of each file \n",
    "    which contains dates, check if those dates are after an entered date range. If they are, then save the \n",
    "    rows in which the condition is satisfied\n",
    "    \n",
    "    Parameters:\n",
    "        input_files (list of str): List of file paths to the input CSV files.\n",
    "        output_file (str): Path to the output CSV file where filtered rows will be saved.\n",
    "        date_threshold (str): The date threshold in 'YYYY-MM-DD' format. Rows with dates after this will be saved.\n",
    "\n",
    "    Returns:\n",
    "        None\n",
    "    \"\"\"\n",
    "    try:\n",
    "        hasClimbed = []\n",
    "        routesClimbed = []\n",
    "        pitchesClimbed = []\n",
    "        date_series = []\n",
    "        date_objects = []\n",
    "        daysOut = []\n",
    "        routeNames = []\n",
    "        # Initialize an empty DataFrame to store filtered rows\n",
    "        filtered_rows = pd.DataFrame()\n",
    "        i=-1\n",
    "        for file in input_files:\n",
    "            # Read the CSV file\n",
    "            try:\n",
    "                df = pd.read_csv(file)\n",
    "\n",
    "                # Ensure the first column contains dates\n",
    "                if df.empty or len(df.columns) == 0:\n",
    "                    print(f\"Skipping empty or malformed file: {file}\")\n",
    "                    continue\n",
    "                \n",
    "                # Convert the first column to datetime\n",
    "                df[df.columns[0]] = pd.to_datetime(df[df.columns[0]], errors='coerce')\n",
    "\n",
    "                # Filter rows based on the date condition (between TripStart and TripEnd)\n",
    "                filtered_df = df[(df[df.columns[0]] >= TripStart) & (df[df.columns[0]] <= TripEnd)]\n",
    "                i+=1\n",
    "                # Append filtered rows to the result DataFrame\n",
    "                if not filtered_df.empty:\n",
    "                    hasClimbed.append(FriendsThereList[i][0])\n",
    "                    routesClimbed.append(len(filtered_df))\n",
    "                    #df ask for pitches and then sum total for each person\n",
    "                    pitchesClimbed.append(sum(filtered_df['Pitches'].tolist()))\n",
    "                    # Save Route Names: \n",
    "                    routeNames = filtered_df['Route'].tolist()\n",
    "                    print(FriendsThereList[i][0],'climbed: ', ', '.join(routeNames))\n",
    "                    # df ask for days and then calc unique days\n",
    "                    date_series = filtered_df['Date'].tolist()\n",
    "                    date_objects = [date.strftime(\"%Y-%m-%d\") for date in date_series]\n",
    "                    unique_days = set(date_objects)    \n",
    "                    daysOut.append(len(unique_days))\n",
    "                filtered_rows = pd.concat([filtered_rows, filtered_df], ignore_index=True)\n",
    "                \n",
    "            except Exception as e:\n",
    "                print(f\"Error processing file {file}: {e}\")\n",
    "\n",
    "        # Save the filtered rows to the output file\n",
    "        if not filtered_rows.empty:\n",
    "            filtered_rows.to_csv('./MPcsv/' + output_file, index=False)\n",
    "            print(f\"\\nFiltered rows saved to {output_file}.\\n\")\n",
    "        else:\n",
    "            print(\"No rows matched the condition.\")\n",
    "        \n",
    "        print(\"Trip Summary: \")\n",
    "        print(\n",
    "            f\"{'Friend':<15}{'Routes':>8}{'Pitches':>11}{'Days Out':>11}\"\n",
    "        )\n",
    "        print('-' * 50)\n",
    "        for name, routes, pitches, days in zip(hasClimbed,routesClimbed,pitchesClimbed, daysOut):\n",
    "            print(\n",
    "                f\"{name:<15}{routes:>5}{pitches:>11}{days:>11}\"\n",
    "            )\n",
    "        print(f\"{'Total':<15}{sum(routesClimbed):>5}{sum(pitchesClimbed):>11}{sum(daysOut):>11}\")\n",
    "    except Exception as e:\n",
    "        print(f\"An error occurred: {e}\")"
   ]
  },
  {
   "cell_type": "code",
   "execution_count": 6,
   "id": "6dbf40b7-d0be-401d-85ee-91a08e504df2",
   "metadata": {
    "tags": []
   },
   "outputs": [
    {
     "name": "stdout",
     "output_type": "stream",
     "text": [
      "Eric climbed:  Birdland, Solar Slab, Solar Slab Gully, Dark Shadows, Olive Oil, Kibbles 'n bits, Man's Best Friend\n",
      "Link climbed:  Birdland, Solar Slab Gully, Solar Slab, Vagabonds, Sweet Pain, Pain Relief, Bon Ez, The CEL, Bear Necessities, Jungle Wall, Tunnel Vision\n",
      "Susan climbed:  Birdland, Dark Shadows, Olive Oil, Kibbles 'n bits, Man's Best Friend\n",
      "Jack climbed:  Solar Slab, Dark Shadows, Olive Oil\n",
      "\n",
      "Filtered rows saved to TripReport.csv.\n",
      "\n",
      "Trip Summary: \n",
      "Friend           Routes    Pitches   Days Out\n",
      "--------------------------------------------------\n",
      "Eric               7         33          5\n",
      "Link              11         33          5\n",
      "Susan              5         18          4\n",
      "Jack               3         18          3\n",
      "Total             26        102         17\n"
     ]
    }
   ],
   "source": [
    "output_file = 'TripReport.csv'\n",
    "check_csv_for_date_range(FriendsThereCsvFiles, output_file, TripStartDate, TripEndDate)"
   ]
  },
  {
   "cell_type": "code",
   "execution_count": null,
   "id": "58cfb73c-f0c9-49b6-8b56-cb951a0fcf06",
   "metadata": {},
   "outputs": [],
   "source": []
  },
  {
   "cell_type": "code",
   "execution_count": null,
   "id": "c9c7ea92-667a-4fb6-827d-b43a582ce2f5",
   "metadata": {},
   "outputs": [],
   "source": []
  },
  {
   "cell_type": "code",
   "execution_count": null,
   "id": "24b0a681-1f40-4c18-9459-d6016622e11d",
   "metadata": {},
   "outputs": [],
   "source": []
  }
 ],
 "metadata": {
  "kernelspec": {
   "display_name": "Python 3 (ipykernel)",
   "language": "python",
   "name": "python3"
  },
  "language_info": {
   "codemirror_mode": {
    "name": "ipython",
    "version": 3
   },
   "file_extension": ".py",
   "mimetype": "text/x-python",
   "name": "python",
   "nbconvert_exporter": "python",
   "pygments_lexer": "ipython3",
   "version": "3.11.4"
  }
 },
 "nbformat": 4,
 "nbformat_minor": 5
}
