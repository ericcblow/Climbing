{
 "cells": [
  {
   "cell_type": "markdown",
   "id": "c8609852-08d8-4983-814d-f0a7ff41a68b",
   "metadata": {},
   "source": [
    "### Need some beta for a climb you're interested in but don't want to ask the internet, check if your friends have climbed a specific route"
   ]
  },
  {
   "cell_type": "code",
   "execution_count": 2,
   "id": "bcd68baa-38be-4491-b419-021c8feab9db",
   "metadata": {
    "tags": []
   },
   "outputs": [],
   "source": [
    "# Install Packages\n",
    "from IPython.display import clear_output"
   ]
  },
  {
   "cell_type": "code",
   "execution_count": 3,
   "id": "d8f9d2bf-fa41-4ccc-be1d-2cce06b39d84",
   "metadata": {
    "tags": []
   },
   "outputs": [],
   "source": [
    "# Import Packages\n",
    "from IPython.display import clear_output\n",
    "import requests\n",
    "import os\n",
    "import csv\n",
    "import pandas as pd\n",
    "from datetime import datetime, timedelta\n",
    "import time"
   ]
  },
  {
   "cell_type": "code",
   "execution_count": 4,
   "id": "e5899f64-67ee-47ad-8c70-b3439cfba1b5",
   "metadata": {
    "tags": []
   },
   "outputs": [],
   "source": [
    "# Create array of input csv to be analyzed\n",
    "FriendsList = []\n",
    "FriendsCsvFiles = []\n",
    "\n",
    "FriendsListPath = \"./MPcsv/Climbing_Friends.csv\"\n",
    "# Change this to specific date if you want\n",
    "today = datetime.today().strftime(\"%m-%d-%Y\")\n",
    "\n",
    "with open(FriendsListPath, \"r\", encoding=\"utf-8\") as file:\n",
    "    reader = csv.reader(file)\n",
    "    for row in reader:\n",
    "        FriendsList.append(row)\n",
    "\n",
    "#Input csv files to be analyzed\n",
    "for friend in FriendsList[1:]:\n",
    "    FriendsCsvFiles.append('./MPcsv/' + friend[0] + \"-\" + today + \".csv\")\n",
    "                           \n",
    "# print(FriendsList)\n",
    "# print(FriendsCsvFiles)"
   ]
  },
  {
   "cell_type": "code",
   "execution_count": null,
   "id": "a907f4c1-5c5b-4dbe-98bc-ad398f6d1a4c",
   "metadata": {},
   "outputs": [],
   "source": [
    "def check_csv_for_climb(input_files, output_file, lastClimbedDate):\n",
    "    \"\"\"\n",
    "    Python function which goes through friend's mountain project data and she if they have climbed a specific climb, if so print out when they did so and any notes they took. \n",
    "    Returns:\n",
    "        None\n",
    "    \"\"\"\n",
    "    try:\n",
    "        # Init\n",
    "        dateClimbed = []\n",
    "        hasClimbed = []\n",
    "        routesClimbed = []\n",
    "        pitchesClimbed = []\n",
    "        # Initialize an empty DataFrame to store filtered rows\n",
    "        filtered_rows = pd.DataFrame()\n",
    "        i=0\n",
    "        for file in input_files:\n",
    "            # Read the CSV file\n",
    "            i+=1\n",
    "            try:\n",
    "                df = pd.read_csv(file)\n",
    "\n",
    "                # Ensure the first column contains dates\n",
    "                if df.empty or len(df.columns) == 0:\n",
    "                    print(f\"Skipping empty or malformed file: {file}\")\n",
    "                    continue\n",
    "                \n",
    "                # Convert the first column to datetime\n",
    "                df[df.columns[0]] = pd.to_datetime(df[df.columns[0]], errors='coerce')\n",
    "\n",
    "                # Filter rows based on the date condition\n",
    "                filtered_df = df[df[df.columns[0]] > lastClimbedDate]\n",
    "\n",
    "                # Append filtered rows to the result DataFrame\n",
    "                if not filtered_df.empty:\n",
    "                    hasClimbed.append(FriendsList[i][0])\n",
    "                    routesClimbed.append(len(filtered_df))\n",
    "                    #df ask for pitches and then sum total for each person\n",
    "                    pitchesClimbed.append(sum(filtered_df['Pitches'].tolist()))\n",
    "                    # df ask for days and then calc unique days\n",
    "                    date_series = filtered_df['Date'].tolist()\n",
    "                    date_objects = [date.strftime(\"%Y-%m-%d\") for date in date_series]\n",
    "                    unique_days = set(date_objects)    \n",
    "                    daysOut.append(len(unique_days))\n",
    "                filtered_rows = pd.concat([filtered_rows, filtered_df], ignore_index=True)\n",
    "                \n",
    "            except Exception as e:\n",
    "                print(f\"Error processing file {file}: {e}\")\n",
    "\n",
    "        # Save the filtered rows to the output file\n",
    "        if not filtered_rows.empty:\n",
    "            filtered_rows.to_csv('./MPcsv/' + output_file, index=False)\n",
    "            print(f\"Filtered rows saved to {output_file}\")\n",
    "        else:\n",
    "            print(\"No rows matched the condition.\")\n",
    "        \n",
    "        print(\"\\nSince \",lastClimbedDate.strftime(\"%m-%d-%Y\"), \"following friends have climbed: \")\n",
    "        print(\n",
    "            f\"{'Friend':<15}{'Routes':>8}{'Pitches':>11}{'Days Out':>11}\"\n",
    "        )\n",
    "        print('-' * 50)\n",
    "        for name, routes, pitches, days in zip(hasClimbed,routesClimbed,pitchesClimbed, daysOut):\n",
    "            print(\n",
    "                f\"{name:<15}{routes:>5}{pitches:>11}{days:>11}\"\n",
    "            )\n",
    "    except Exception as e:\n",
    "        print(f\"An error occurred: {e}\")\n",
    "\n"
   ]
  },
  {
   "cell_type": "code",
   "execution_count": 5,
   "id": "d25dcc7f-174c-4afa-80d0-0c46e0444186",
   "metadata": {
    "tags": []
   },
   "outputs": [],
   "source": [
    "def search_in_csv_and_save(csv_files, search_string, output_file):\n",
    "    \"\"\"\n",
    "    Searches a list of CSV files for a matching string in the fifth column and saves the matching rows to a new CSV file.\n",
    "\n",
    "    Args:\n",
    "        csv_files (list): A list of paths to the CSV files to search.\n",
    "        search_string (str): The string to search for in the fifth column.\n",
    "        output_file (str): The path of the output CSV file where matching rows will be saved.\n",
    "    \"\"\"\n",
    "    try:\n",
    "        with open(output_file, mode=\"w\", newline=\"\", encoding=\"utf-8\") as out_csv:\n",
    "            writer = csv.writer(out_csv)\n",
    "            header_written = False  # Flag to ensure the header is written only once\n",
    "\n",
    "            for file in csv_files:\n",
    "                try:\n",
    "                    with open(file, mode=\"r\", newline=\"\", encoding=\"utf-8\") as in_csv:\n",
    "                        reader = csv.reader(in_csv)\n",
    "                        header = next(reader)  # Read the header row\n",
    "                        \n",
    "                        # Write header to output file if not already written\n",
    "                        if not header_written:\n",
    "                            writer.writerow(header)\n",
    "                            header_written = True\n",
    "\n",
    "                        # Process each row in the CSV\n",
    "                        for row in reader:\n",
    "                            # Ensure the row has at least 5 columns before checking\n",
    "                            if len(row) >= 5 and row[4] == search_string:\n",
    "                                writer.writerow(row)\n",
    "\n",
    "                except Exception as e:\n",
    "                    print(f\"Error reading file {file}: {e}\")\n",
    "\n",
    "        print(f\"Matching rows saved to {output_file}.\")\n",
    "    except Exception as e:\n",
    "        print(f\"Error writing to output file {output_file}: {e}\")\n",
    "\n"
   ]
  },
  {
   "cell_type": "code",
   "execution_count": 6,
   "id": "75e18edd-8740-422a-99cf-fee556578620",
   "metadata": {
    "tags": []
   },
   "outputs": [],
   "source": [
    "# Route to cross reference\n",
    "theClimb = \"https://www.mountainproject.com/route/105798994/high-exposure\""
   ]
  },
  {
   "cell_type": "code",
   "execution_count": 8,
   "id": "8ca80e7a-a601-44b5-ac3e-29725685314e",
   "metadata": {
    "tags": []
   },
   "outputs": [
    {
     "name": "stdout",
     "output_type": "stream",
     "text": [
      "Matching rows saved to ./MPcsv/output.csv.\n"
     ]
    }
   ],
   "source": [
    "# Example usage\n",
    "csv_files = FriendsCsvFiles # List of input CSV file paths\n",
    "search_string = \"https://www.mountainproject.com/route/105798994/high-exposure\"  # The string to search for in the fifth column\n",
    "output_file = \"./MPcsv/output.csv\"  # Path to the output CSV file\n",
    "\n",
    "search_in_csv_and_save(csv_files, search_string, output_file)"
   ]
  },
  {
   "cell_type": "code",
   "execution_count": null,
   "id": "6abc743f-c745-4181-a810-73608546aa6a",
   "metadata": {},
   "outputs": [],
   "source": []
  }
 ],
 "metadata": {
  "kernelspec": {
   "display_name": "Python 3 (ipykernel)",
   "language": "python",
   "name": "python3"
  },
  "language_info": {
   "codemirror_mode": {
    "name": "ipython",
    "version": 3
   },
   "file_extension": ".py",
   "mimetype": "text/x-python",
   "name": "python",
   "nbconvert_exporter": "python",
   "pygments_lexer": "ipython3",
   "version": "3.11.4"
  }
 },
 "nbformat": 4,
 "nbformat_minor": 5
}
