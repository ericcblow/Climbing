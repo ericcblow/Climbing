{
 "cells": [
  {
   "cell_type": "markdown",
   "id": "3bea5f32-d046-48f5-9a0f-269aa976f21f",
   "metadata": {},
   "source": [
    "### Generates Trip Report for you and your friends"
   ]
  },
  {
   "cell_type": "code",
   "execution_count": null,
   "id": "bd8dc418-efa8-41a7-8f7b-1b0ff36c0728",
   "metadata": {},
   "outputs": [],
   "source": []
  },
  {
   "cell_type": "code",
   "execution_count": null,
   "id": "288f1585-2efe-4433-bb10-3dc02e0d1766",
   "metadata": {},
   "outputs": [],
   "source": [
    "# Install Packages\n",
    "from IPython.display import clear_output"
   ]
  },
  {
   "cell_type": "code",
   "execution_count": 2,
   "id": "1372d53d-d32e-4825-a094-d18edc349b4d",
   "metadata": {
    "tags": []
   },
   "outputs": [],
   "source": [
    "# Import Packages\n",
    "from IPython.display import clear_output\n",
    "import requests\n",
    "import os\n",
    "import numpy as np\n",
    "import csv\n",
    "import pandas as pd\n",
    "import matplotlib.pyplot as plt\n",
    "from datetime import datetime, timedelta\n",
    "import time"
   ]
  },
  {
   "cell_type": "code",
   "execution_count": 16,
   "id": "f7c693e1-e385-4ccd-8116-628b8a31ccb6",
   "metadata": {
    "tags": []
   },
   "outputs": [
    {
     "name": "stdout",
     "output_type": "stream",
     "text": [
      "[['Eric', 'https://www.mountainproject.com/user/200907207/eric-blow'], ['Link', 'https://www.mountainproject.com/user/112051710/link-pat'], ['Susan', 'https://www.mountainproject.com/user/201129089/q-r'], ['Jack', 'https://www.mountainproject.com/user/112192174/jack-reills'], ['Elizabeth', 'https://www.mountainproject.com/user/201346194/elizabeth-yankovsky']]\n"
     ]
    }
   ],
   "source": [
    "# Who was there? (and also ticks)\n",
    "FriendsOnTrip = ['Eric','Link','Susan', 'Jack', 'Elizabeth']\n",
    "\n",
    "\n",
    "# Create array of input csv to be analyzed\n",
    "FriendsList = []\n",
    "FriendsCsvFiles = []\n",
    "\n",
    "FriendsListPath = \"./MPcsv/Climbing_Friends.csv\"\n",
    "# Change this to specific date if you want\n",
    "today = datetime.today().strftime(\"%m-%d-%Y\")\n",
    "\n",
    "with open(FriendsListPath, \"r\", encoding=\"utf-8\") as file:\n",
    "    reader = csv.reader(file)\n",
    "    for row in reader:\n",
    "        FriendsList.append(row)\n",
    "\n",
    "#Input csv files to be analyzed\n",
    "for friend in FriendsList[1:]:\n",
    "    FriendsCsvFiles.append('./MPcsv/' + friend[0] + \"-\" + today + \".csv\")\n",
    "    \n",
    "FriendsThereList = []\n",
    "FriendInd = []\n",
    "for Name2LookFor in FriendsOnTrip:\n",
    "    for i, Name in enumerate(FriendsList):\n",
    "        if Name2LookFor in Name:  # Check if the keyword is in the string\n",
    "            FriendInd.append(i)\n",
    "\n",
    "# New Friends list with only people there\n",
    "FriendsThereList = [FriendsList[index] for index in FriendInd]\n",
    "# print(FriendsThereList)\n"
   ]
  },
  {
   "cell_type": "code",
   "execution_count": null,
   "id": "3f0086d2-7f69-4447-abbc-ebb64289954d",
   "metadata": {
    "tags": []
   },
   "outputs": [],
   "source": []
  },
  {
   "cell_type": "code",
   "execution_count": null,
   "id": "f88ba12a-3dbc-4983-9c42-ae1be7b1731e",
   "metadata": {},
   "outputs": [],
   "source": []
  },
  {
   "cell_type": "code",
   "execution_count": null,
   "id": "6dbf40b7-d0be-401d-85ee-91a08e504df2",
   "metadata": {},
   "outputs": [],
   "source": []
  },
  {
   "cell_type": "code",
   "execution_count": null,
   "id": "58cfb73c-f0c9-49b6-8b56-cb951a0fcf06",
   "metadata": {},
   "outputs": [],
   "source": []
  },
  {
   "cell_type": "code",
   "execution_count": null,
   "id": "c9c7ea92-667a-4fb6-827d-b43a582ce2f5",
   "metadata": {},
   "outputs": [],
   "source": []
  },
  {
   "cell_type": "code",
   "execution_count": null,
   "id": "24b0a681-1f40-4c18-9459-d6016622e11d",
   "metadata": {},
   "outputs": [],
   "source": []
  }
 ],
 "metadata": {
  "kernelspec": {
   "display_name": "Python 3 (ipykernel)",
   "language": "python",
   "name": "python3"
  },
  "language_info": {
   "codemirror_mode": {
    "name": "ipython",
    "version": 3
   },
   "file_extension": ".py",
   "mimetype": "text/x-python",
   "name": "python",
   "nbconvert_exporter": "python",
   "pygments_lexer": "ipython3",
   "version": "3.11.4"
  }
 },
 "nbformat": 4,
 "nbformat_minor": 5
}
