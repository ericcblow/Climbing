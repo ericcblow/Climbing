{
 "cells": [
  {
   "cell_type": "code",
   "execution_count": 37,
   "id": "93acb897-ac13-4a7e-9951-9507406fd1d7",
   "metadata": {
    "tags": []
   },
   "outputs": [],
   "source": [
    "# Install Packages\n",
    "from IPython.display import clear_output"
   ]
  },
  {
   "cell_type": "code",
   "execution_count": 38,
   "id": "8069e316-8dd7-4b89-bb80-1a7b82bc8319",
   "metadata": {
    "tags": []
   },
   "outputs": [],
   "source": [
    "# Import Packages\n",
    "from IPython.display import clear_output\n",
    "import requests\n",
    "import os\n",
    "import csv\n",
    "from datetime import date\n",
    "import time"
   ]
  },
  {
   "cell_type": "code",
   "execution_count": 39,
   "id": "6c65ff30-a27a-48a1-aa40-af76c7782cca",
   "metadata": {
    "tags": []
   },
   "outputs": [],
   "source": [
    "def download_csv(url, save_dir, new_file_name=None):\n",
    "    \"\"\"\n",
    "    Downloads a CSV file from the given URL and saves it to the specified directory\n",
    "    with an optional new file name.\n",
    "\n",
    "    Parameters:\n",
    "        url (str): The URL of the CSV file to download.\n",
    "        save_dir (str): The directory where the CSV should be saved.\n",
    "        new_file_name (str, optional): The new name for the saved file. If not provided, \n",
    "                                       the original file name from the URL is used.\n",
    "    \"\"\"\n",
    "    try:\n",
    "        # Send a GET request to the URL\n",
    "        response = requests.get(url)\n",
    "        \n",
    "        # Raise an HTTPError if the response contains an HTTP error status\n",
    "        response.raise_for_status()\n",
    "        \n",
    "        # Extract the original file name from the URL if no new name is provided\n",
    "        if new_file_name is None:\n",
    "            new_file_name = os.path.basename(url.split(\"?\")[0])\n",
    "        \n",
    "        # Ensure the save directory exists\n",
    "        os.makedirs(save_dir, exist_ok=True)\n",
    "        \n",
    "        # Construct the full file path\n",
    "        save_path = os.path.join(save_dir, new_file_name)\n",
    "        \n",
    "        # Write the content of the response to the file\n",
    "        with open(save_path, \"wb\") as file:\n",
    "            file.write(response.content)\n",
    "        \n",
    "        print(f\"CSV file successfully downloaded and saved to {save_path}.\")\n",
    "    except requests.exceptions.RequestException as e:\n",
    "        print(f\"Failed to download the file. Error: {e}\")"
   ]
  },
  {
   "cell_type": "code",
   "execution_count": 42,
   "id": "723267bd-3a58-4096-8c71-b27cdb3df2c2",
   "metadata": {
    "tags": []
   },
   "outputs": [],
   "source": [
    "FriendsList = []\n",
    "FriendsListPath = \"./MPcsv/Climbing_Friends.csv\"\n",
    "with open(FriendsListPath, \"r\", encoding=\"utf-8\") as file:\n",
    "    reader = csv.reader(file)\n",
    "    for row in reader:\n",
    "        FriendsList.append(row)\n",
    "print(FriendsList)\n",
    "time.sleep(2)\n",
    "clear_output()"
   ]
  },
  {
   "cell_type": "code",
   "execution_count": 45,
   "id": "62ed4114-9a41-48ed-ba55-14ed03ac912d",
   "metadata": {
    "tags": []
   },
   "outputs": [
    {
     "name": "stdout",
     "output_type": "stream",
     "text": [
      "Done Updating Friends Climbing Data.\n",
      "Downloading all climbing ticks took 72.3 seconds to complete\n"
     ]
    }
   ],
   "source": [
    "# Download and save CSV for all climbing friends - Add date to name\n",
    "today = date.today().strftime(\"%m-%d-%Y\")\n",
    "save_directory = \"./MPcsv/\"\n",
    "start_time = time.time()\n",
    "print(\"Downloading climbing data...\")\n",
    "\n",
    "for friend in FriendsList[1:]:\n",
    "    friendName = friend[0]\n",
    "    friendUrl = friend[1]+\"/tick-export\"\n",
    "    rename_to = str(friendName) + \"-\" + today + \".csv\"\n",
    "    download_csv(friendUrl, save_directory, rename_to) \n",
    "\n",
    "end_time = time.time()\n",
    "time.sleep(2)\n",
    "clear_output()\n",
    "elapsed_time = end_time - start_time\n",
    "print(\"Done Updating Friends Climbing Data.\")\n",
    "print(f\"Downloading all climbing ticks took {elapsed_time:.1f} seconds to complete\")\n"
   ]
  },
  {
   "cell_type": "code",
   "execution_count": null,
   "id": "520b31c6-8d11-4ca5-bd13-4e11bcbf2764",
   "metadata": {
    "tags": []
   },
   "outputs": [],
   "source": []
  },
  {
   "cell_type": "code",
   "execution_count": null,
   "id": "fa0fec68-09cf-4276-ba11-2dc37ad3128e",
   "metadata": {
    "tags": []
   },
   "outputs": [],
   "source": []
  },
  {
   "cell_type": "code",
   "execution_count": null,
   "id": "c0fcb49a-7cc8-44ed-a1ad-6923e27a9a08",
   "metadata": {},
   "outputs": [],
   "source": []
  }
 ],
 "metadata": {
  "kernelspec": {
   "display_name": "Python 3 (ipykernel)",
   "language": "python",
   "name": "python3"
  },
  "language_info": {
   "codemirror_mode": {
    "name": "ipython",
    "version": 3
   },
   "file_extension": ".py",
   "mimetype": "text/x-python",
   "name": "python",
   "nbconvert_exporter": "python",
   "pygments_lexer": "ipython3",
   "version": "3.11.5"
  }
 },
 "nbformat": 4,
 "nbformat_minor": 5
}
