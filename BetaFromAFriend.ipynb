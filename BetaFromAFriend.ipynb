{
 "cells": [
  {
   "cell_type": "markdown",
   "id": "c8609852-08d8-4983-814d-f0a7ff41a68b",
   "metadata": {},
   "source": [
    "### Need some beta for a climb you're interested in but don't want to ask the internet, check if your friends have climbed a specific route"
   ]
  },
  {
   "cell_type": "code",
   "execution_count": 1,
   "id": "bcd68baa-38be-4491-b419-021c8feab9db",
   "metadata": {
    "tags": []
   },
   "outputs": [],
   "source": [
    "# Install Packages\n",
    "from IPython.display import clear_output"
   ]
  },
  {
   "cell_type": "code",
   "execution_count": 2,
   "id": "d8f9d2bf-fa41-4ccc-be1d-2cce06b39d84",
   "metadata": {
    "tags": []
   },
   "outputs": [],
   "source": [
    "# Import Packages\n",
    "from IPython.display import clear_output\n",
    "import requests\n",
    "import os\n",
    "import csv\n",
    "import pandas as pd\n",
    "from datetime import datetime, timedelta\n",
    "import time"
   ]
  },
  {
   "cell_type": "code",
   "execution_count": 3,
   "id": "e5899f64-67ee-47ad-8c70-b3439cfba1b5",
   "metadata": {
    "tags": []
   },
   "outputs": [],
   "source": [
    "# Create array of input csv to be analyzed\n",
    "FriendsList = []\n",
    "FriendsCsvFiles = []\n",
    "\n",
    "FriendsListPath = \"./MPcsv/Climbing_Friends.csv\"\n",
    "# Change this to specific date if you want\n",
    "today = datetime.today().strftime(\"%m-%d-%Y\")\n",
    "\n",
    "with open(FriendsListPath, \"r\", encoding=\"utf-8\") as file:\n",
    "    reader = csv.reader(file)\n",
    "    for row in reader:\n",
    "        FriendsList.append(row)\n",
    "\n",
    "#Input csv files to be analyzed\n",
    "for friend in FriendsList[1:]:\n",
    "    FriendsCsvFiles.append('./MPcsv/' + friend[0] + \"-\" + today + \".csv\")\n",
    "                           \n",
    "# print(FriendsList)\n",
    "# print(FriendsCsvFiles)"
   ]
  },
  {
   "cell_type": "code",
   "execution_count": 4,
   "id": "d25dcc7f-174c-4afa-80d0-0c46e0444186",
   "metadata": {
    "tags": []
   },
   "outputs": [],
   "source": [
    "def search_in_csv_and_save(csv_files, search_string, output_file, w_tick=False):\n",
    "    \"\"\"\n",
    "    Searches a list of CSV files for a matching string in the fifth column, url column, and saves the matching rows to a new CSV file.\n",
    "    Also prints report of who has climbed it, when, and the tick description.\n",
    "\n",
    "    Args:\n",
    "        csv_files (list): A list of paths to the CSV files to search.\n",
    "        search_string (str): The string to search for in the fifth column.\n",
    "        output_file (str): The path of the output CSV file where matching rows will be saved.\n",
    "    \"\"\"\n",
    "    \n",
    "    try:\n",
    "        # Determine Title of Climb from url \n",
    "        # Extract the last section after the last '/'\n",
    "        last_section = search_string.split('/')[-1]\n",
    "\n",
    "        # Replace dashes with spaces\n",
    "        modified_section = last_section.replace('-', ' ')\n",
    "\n",
    "        # Capitalize the first letter of each word\n",
    "        ClimbTitle = modified_section.title()\n",
    "        \n",
    "        print(\"Searching for Climb: \", ClimbTitle)\n",
    "        i=0\n",
    "        check=0\n",
    "        hasClimbed = []\n",
    "        with open(output_file, mode=\"w\", newline=\"\", encoding=\"utf-8\") as out_csv:\n",
    "            writer = csv.writer(out_csv)\n",
    "            header_written = False  # Flag to ensure the header is written only once\n",
    "\n",
    "            for file in csv_files:\n",
    "                try:\n",
    "                    i+=1\n",
    "                    with open(file, mode=\"r\", newline=\"\", encoding=\"utf-8\") as in_csv:\n",
    "                        reader = csv.reader(in_csv)\n",
    "                        header = next(reader)  # Read the header row\n",
    "                        \n",
    "                        # Write header to output file if not already written\n",
    "                        if not header_written:\n",
    "                            writer.writerow(header)\n",
    "                            header_written = True\n",
    "\n",
    "                        # Process each row in the CSV\n",
    "                        for row in reader:\n",
    "                            # Ensure the row has at least 5 columns before checking\n",
    "                            if len(row) >= 5 and row[4] == search_string:\n",
    "                                writer.writerow(row)\n",
    "                                check+=1\n",
    "                                print(FriendsList[i][0], ' has climbed ', row[1], \n",
    "                                      '('+row[2]+')', 'on', row[0]) \n",
    "                                if w_tick == True:\n",
    "                                    print('Note: ',row[3], '\\n')\n",
    "                        \n",
    "                \n",
    "                except Exception as e:\n",
    "                    print(f\"Error reading file {file}: {e}\")\n",
    "        if check > 0:\n",
    "            print(f\"\\nYour friends have climbed {ClimbTitle} {check} number of times.\")\n",
    "        else:\n",
    "            print(f\"Unable to find a friend who has climbed  {ClimbTitle}\")\n",
    "        print(f\"\\nFriends' notes on {ClimbTitle} saved here: {output_file}.\")\n",
    "    except Exception as e:\n",
    "        print(f\"Error writing to output file {output_file}: {e}\")\n",
    "\n"
   ]
  },
  {
   "cell_type": "code",
   "execution_count": 5,
   "id": "75e18edd-8740-422a-99cf-fee556578620",
   "metadata": {
    "tags": []
   },
   "outputs": [],
   "source": [
    "# Route to cross reference\n",
    "theClimb = \"https://www.mountainproject.com/route/105798994/high-exposure\"\n",
    "output_file = \"./MPcsv/BetaSearch.csv\""
   ]
  },
  {
   "cell_type": "code",
   "execution_count": 6,
   "id": "8ca80e7a-a601-44b5-ac3e-29725685314e",
   "metadata": {
    "tags": []
   },
   "outputs": [
    {
     "name": "stdout",
     "output_type": "stream",
     "text": [
      "Searching for Climb:  High Exposure\n",
      "Eric  has climbed  High Exposure (5.6) on 2024-10-18\n",
      "Note:  With Seb. Linked P1 and p2. Rope drag was okay. Last piece before the traverse was dumb. P3 was a bit intimidating to get out but so good once I committed. Rest of face was beautiful. Took it slow didn’t get pumped. This was a goal for the fall, so really happy. Maria/Madam G next.  \n",
      "\n",
      "Eric  has climbed  High Exposure (5.6) on 2023-09-15\n",
      "Note:  Susan led to celebrate her FPO. She crushed. I would definitely lead P1, traverse seems potentially sketchy if rope drag isn&#39;t well managed but super fun. Definitely a real move about midway up P1. P2 would go but still a pumpy for my fitness. Place #4, before roof. Maybe first placement after on side pull or first rail? But don&#39;t forget about that RH side pull and blind foot to clear the roof. P1 Anchor Sling boulder and backup, P2 tree anchor.  \n",
      "\n",
      "Eric  has climbed  High Exposure (5.6) on 2022-10-16\n",
      "Note:  Link Led, Followed w/ Holly. Started with Directissima. Such a fun climb the lean out to the side pull is bomber yet scary. Feeling better on exposed climbed. Amazing pitch as always \n",
      "\n",
      "Eric  has climbed  High Exposure (5.6) on 2021-10-09\n",
      "Note:  Link led, trio with Susan. really beautiful exposure on second pitch and worlds greatest jugs. In beginning of 2nd pitch, stay low and use the crack as a bomber right hand side pull. Rappelled on anchors on the right and then two rope rappelled from GT ledge \n",
      "\n",
      "Link  has climbed  High Exposure (5.6) on 2023-09-15\n",
      "Note:  Susan lead and crushed it.  I forgot to leave pieces for Eric when i followed, so i downclimbed and replaced pieces. Jessi (maxi) and gunner were cool climbing buddies \n",
      "\n",
      "Link  has climbed  High Exposure (5.6) on 2022-10-16\n",
      "Note:  P1 on directissima. Lost rock paper scissors to Dat and Focus and they climbed p2 before us.  \n",
      "\n",
      "Link  has climbed  High Exposure (5.6) on 2021-10-09\n",
      "Note:  With Susan and Eric. First people on it today early in the morning from bottom to top with two followers 45 minutes Spider-Man. Eric facetimed his niece with a rope around neck at the top to cement his &#39;cool uncle&#39; status \n",
      "\n",
      "Link  has climbed  High Exposure (5.6) on 2019-11-18\n",
      "Note:  W gene and niko \n",
      "\n",
      "Jack  has climbed  High Exposure (5.6) on 2021-10-09\n",
      "Note:  lead eith tu and kn\n",
      "t's first time, got k stuck at the lip by taking too tight, she was stuck under the other rope \n",
      "\n",
      "Jack  has climbed  High Exposure (5.6) on 2018-10-06\n",
      "Note:  With Norm. Raining-wet on first pitch, top of 2nd pitch wet. \n",
      "\n",
      "Jack  has climbed  High Exposure (5.6) on 2017-05-01\n",
      "Note:   \n",
      "\n",
      "Susan  has climbed  High Exposure (5.6) on 2023-09-15\n",
      "Note:  Lead both pitches! Pitch one was a little stressful with the traverse and the rope drag.  Link brought up Erics rope so I only had to pull one rope. Slung the boulder as an anchor. Pitch 2 was a little pumpy but more straight forward. \n",
      "\n",
      "Susan  has climbed  High Exposure (5.6) on 2021-10-09\n",
      "Note:  Great climb. Did it with Eric and Link.  Stay low and get somewhat around corner before pulling the roof. \n",
      "\n",
      "Oak  has climbed  High Exposure (5.6) on 2021-06-20\n",
      "Note:  Followed after Directissima \n",
      "\n",
      "Oak  has climbed  High Exposure (5.6) on 2019-11-17\n",
      "Note:  Fingers turned into frozen meat hooks on the third pitch. Soooooo cold! \n",
      "\n",
      "Oak  has climbed  High Exposure (5.6) on 2018-08-12\n",
      "Note:  Everything it is cracked up to be. Annie followed me. We followed Niko and Jean up. \n",
      "\n",
      "Annie  has climbed  High Exposure (5.6) on 2021-06-20\n",
      "Note:  finally led the money pitch \n",
      "\n",
      "Annie  has climbed  High Exposure (5.6) on 2018-08-12\n",
      "Note:  aptly named! first pitch was easy climbing, second pitch was exposed which made it headier. everything was there though  \n",
      "\n",
      "Kelsey  has climbed  High Exposure (5.6) on 2021-10-09\n",
      "Note:  Just did second pitch with jack and Tom  \n",
      "\n",
      "Holly  has climbed  High Exposure (5.6) on 2022-10-16\n",
      "Note:  Link lead, followed w Eric \n",
      "\n",
      "Holly  has climbed  High Exposure (5.6) on 2022-10-16\n",
      "Note:   \n",
      "\n",
      "Chen  has climbed  High Exposure (5.6) on 2024-10-18\n",
      "Note:  Did second pitch for directissima link up \n",
      "\n",
      "Chen  has climbed  High Exposure (5.6) on 2024-10-05\n",
      "Note:  With Anya and Louise. First pitch of modern time into second pitch high e \n",
      "\n",
      "Chen  has climbed  High Exposure (5.6) on 2023-11-04\n",
      "Note:  Led 2nd pitch of high e. Followed directissima to GT. \n",
      "\n",
      "Kai  has climbed  High Exposure (5.6) on 2024-07-01\n",
      "Note:  Lead with Nancy for first time up higher e. Perfect day with no lines. \n",
      "\n",
      "Kai  has climbed  High Exposure (5.6) on 2023-01-30\n",
      "Note:  Confident lead. Messed up on repel tried to repel in two with 70 was left 20ft off the ground. 35m x 2 = 230ft. High exposure is 250ft. Oops. \n",
      "\n",
      "Kai  has climbed  High Exposure (5.6) on 2022-11-14\n",
      "Note:  Much less scary this time. \n",
      "\n",
      "Nancy  has climbed  High Exposure (5.6) on 2024-07-02\n",
      "Note:  Much easier than I was expecting. The second pitch money move was pretty fun.  I got super pumped on the section after to the top, just enough overhung - although good jugs the whole way up. \n",
      "\n",
      "\n",
      "Your friends have climbed High Exposure 28 number of times.\n",
      "\n",
      "Friends' notes on High Exposure saved here: ./MPcsv/BetaSearch.csv.\n"
     ]
    }
   ],
   "source": [
    "# Example usage\n",
    "csv_files = FriendsCsvFiles # List of input CSV file paths # The string to search for in the fifth column\n",
    "w_tick = True # Do you want tick note as well?\n",
    "\n",
    "\n",
    "search_in_csv_and_save(csv_files, theClimb, output_file, w_tick)"
   ]
  },
  {
   "cell_type": "code",
   "execution_count": null,
   "id": "6abc743f-c745-4181-a810-73608546aa6a",
   "metadata": {},
   "outputs": [],
   "source": []
  },
  {
   "cell_type": "code",
   "execution_count": null,
   "id": "cce739d4-b6d4-481d-99c8-e68046c0e9b5",
   "metadata": {},
   "outputs": [],
   "source": []
  },
  {
   "cell_type": "code",
   "execution_count": null,
   "id": "4afe7613-5af6-4b07-8baa-5d9349308706",
   "metadata": {},
   "outputs": [],
   "source": []
  }
 ],
 "metadata": {
  "kernelspec": {
   "display_name": "Python 3 (ipykernel)",
   "language": "python",
   "name": "python3"
  },
  "language_info": {
   "codemirror_mode": {
    "name": "ipython",
    "version": 3
   },
   "file_extension": ".py",
   "mimetype": "text/x-python",
   "name": "python",
   "nbconvert_exporter": "python",
   "pygments_lexer": "ipython3",
   "version": "3.11.5"
  }
 },
 "nbformat": 4,
 "nbformat_minor": 5
}
